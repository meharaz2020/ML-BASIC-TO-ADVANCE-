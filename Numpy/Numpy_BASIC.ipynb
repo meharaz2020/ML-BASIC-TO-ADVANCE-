{
  "nbformat": 4,
  "nbformat_minor": 0,
  "metadata": {
    "colab": {
      "private_outputs": true,
      "provenance": []
    },
    "kernelspec": {
      "name": "python3",
      "display_name": "Python 3"
    },
    "language_info": {
      "name": "python"
    },
    "gpuClass": "standard"
  },
  "cells": [
    {
      "cell_type": "markdown",
      "source": [
        "# **Numpy Function**\n"
      ],
      "metadata": {
        "id": "7zgqYLCnMfYz"
      }
    },
    {
      "cell_type": "code",
      "execution_count": null,
      "metadata": {
        "id": "_ib7NWLPAMmd"
      },
      "outputs": [],
      "source": [
        "#using numpy we 1st import Python library which name is numpy and we use multi times the name of numpy. so we use shortform like np . just for our easy way.\n",
        "import numpy as np"
      ]
    },
    {
      "cell_type": "markdown",
      "source": [
        "# **NUMPY ARRAY**\n",
        "\n",
        " \n"
      ],
      "metadata": {
        "id": "P3lI18OgIzbt"
      }
    },
    {
      "cell_type": "code",
      "source": [
        "#In this line we use an array and create a 1D array\n",
        "arr_1d=np.array([1,2,3])\n",
        "arr_1d"
      ],
      "metadata": {
        "id": "16jn3rY4G1bL"
      },
      "execution_count": null,
      "outputs": []
    },
    {
      "cell_type": "code",
      "source": [
        "#hear we can check the type of our Array\n",
        "type(arr_1d)"
      ],
      "metadata": {
        "id": "lUMigijqG1d4"
      },
      "execution_count": null,
      "outputs": []
    },
    {
      "cell_type": "code",
      "source": [
        "# Check the Dimension\n",
        "arr_1d.ndim"
      ],
      "metadata": {
        "id": "MlfGNva-G1gr"
      },
      "execution_count": null,
      "outputs": []
    },
    {
      "cell_type": "code",
      "source": [
        "#for this way we create 2D array very easily\n",
        "arr_2d=np.array([[1,2,3],[4,5,6]])\n",
        "arr_2d"
      ],
      "metadata": {
        "id": "Y0MzoYxDG1jR"
      },
      "execution_count": null,
      "outputs": []
    },
    {
      "cell_type": "code",
      "source": [
        "arr_2d.ndim"
      ],
      "metadata": {
        "id": "Zdsemok0G1mJ"
      },
      "execution_count": null,
      "outputs": []
    },
    {
      "cell_type": "code",
      "source": [
        "#check the size of total value\n",
        "arr_2d.size"
      ],
      "metadata": {
        "id": "4xsYFcvXHp9M"
      },
      "execution_count": null,
      "outputs": []
    },
    {
      "cell_type": "code",
      "source": [
        "#hear is the shape Row and Column\n",
        "arr_2d.shape"
      ],
      "metadata": {
        "id": "MK5zFStnHp_g"
      },
      "execution_count": null,
      "outputs": []
    },
    {
      "cell_type": "code",
      "source": [
        "arr_2d.dtype"
      ],
      "metadata": {
        "id": "58mWhTEkHqCa"
      },
      "execution_count": null,
      "outputs": []
    },
    {
      "cell_type": "markdown",
      "source": [
        "# **Change Data type and ones Data**"
      ],
      "metadata": {
        "id": "R1aa3UywLBnk"
      }
    },
    {
      "cell_type": "code",
      "source": [
        "mx_1=np.array([[1,1,1],[1,1,1],[1,1,1]])\n",
        "mx_1"
      ],
      "metadata": {
        "id": "k2fiMQGwHqFN"
      },
      "execution_count": null,
      "outputs": []
    },
    {
      "cell_type": "code",
      "source": [
        "#Easily we can create multi Ones matrix just a single line of code\n",
        "mx_ones=np.ones(5*5)\n",
        "mx_ones"
      ],
      "metadata": {
        "id": "LYSAB7PXHqHo"
      },
      "execution_count": null,
      "outputs": []
    },
    {
      "cell_type": "code",
      "source": [
        "mx_ones.dtype"
      ],
      "metadata": {
        "id": "JtgCKI20HqKT"
      },
      "execution_count": null,
      "outputs": []
    },
    {
      "cell_type": "code",
      "source": [
        "mx_ones_m=np.ones((4,5))\n",
        "mx_ones_m"
      ],
      "metadata": {
        "id": "sjz5zoQtG1pA"
      },
      "execution_count": null,
      "outputs": []
    },
    {
      "cell_type": "code",
      "source": [
        "#Easily chnage the data type. When we run the code so we can find the float value . So that's why we easily chnage the type INT/FLOAT/BOOLEAN\n",
        "np.ones((3,3),dtype=int)"
      ],
      "metadata": {
        "id": "fTFmdNAaG1tI"
      },
      "execution_count": null,
      "outputs": []
    },
    {
      "cell_type": "code",
      "source": [
        "#also we can easily write the zeros its just as simple as empty\n",
        "np.zeros((3,3))"
      ],
      "metadata": {
        "id": "xhdUsvk9Ko39"
      },
      "execution_count": null,
      "outputs": []
    },
    {
      "cell_type": "code",
      "source": [
        "np.zeros((3,3),dtype=bool)"
      ],
      "metadata": {
        "id": "01EHUIAHKo8l"
      },
      "execution_count": null,
      "outputs": []
    },
    {
      "cell_type": "code",
      "source": [
        "np.empty((3,3))"
      ],
      "metadata": {
        "id": "3hLVEv82Ko_B"
      },
      "execution_count": null,
      "outputs": []
    },
    {
      "cell_type": "markdown",
      "source": [
        "# **arange()**  "
      ],
      "metadata": {
        "id": "_VlyN9B5MRi-"
      }
    },
    {
      "cell_type": "code",
      "source": [
        "#This way we easily crate a series of a number\n",
        "np.arange(1,13,2)"
      ],
      "metadata": {
        "id": "fpoESog_KpBK"
      },
      "execution_count": null,
      "outputs": []
    },
    {
      "cell_type": "markdown",
      "source": [
        "# **Linspace()**"
      ],
      "metadata": {
        "id": "Kdp6YI-NMqsM"
      }
    },
    {
      "cell_type": "code",
      "source": [
        "#This is the random value make like the start to end value and last digit is the total value what we want \n",
        "np.linspace(1,5,4)"
      ],
      "metadata": {
        "id": "Q9QKp5OiMQ0F"
      },
      "execution_count": null,
      "outputs": []
    },
    {
      "cell_type": "markdown",
      "source": [
        "# **reshape()** "
      ],
      "metadata": {
        "id": "Zc64X-CDNDX7"
      }
    },
    {
      "cell_type": "code",
      "source": [
        "#easily reshape the matrix \n",
        "np.arange(1,13).reshape(2,6)"
      ],
      "metadata": {
        "id": "mp0RbdZxKpDm"
      },
      "execution_count": null,
      "outputs": []
    },
    {
      "cell_type": "code",
      "source": [
        "np.arange(1,13).reshape(2,3,2)"
      ],
      "metadata": {
        "id": "JHHs6JDnNpCS"
      },
      "execution_count": null,
      "outputs": []
    },
    {
      "cell_type": "code",
      "source": [
        "np.arange(1,13).reshape(3,4)"
      ],
      "metadata": {
        "id": "jLkuBsQFNtyy"
      },
      "execution_count": null,
      "outputs": []
    },
    {
      "cell_type": "markdown",
      "source": [
        "# **ravel()**"
      ],
      "metadata": {
        "id": "jlAQxrgINZFq"
      }
    },
    {
      "cell_type": "code",
      "source": [
        "np.array([[1,1,1],[1,1,1]]).ravel()"
      ],
      "metadata": {
        "id": "8Js-pWOMKpFw"
      },
      "execution_count": null,
      "outputs": []
    },
    {
      "cell_type": "markdown",
      "source": [
        "# **flatten()**"
      ],
      "metadata": {
        "id": "11GMCQisN9qw"
      }
    },
    {
      "cell_type": "code",
      "source": [
        "np.array([[1,1,1],[1,1,1]]).flatten()"
      ],
      "metadata": {
        "id": "R9SmAW8EG1vs"
      },
      "execution_count": null,
      "outputs": []
    },
    {
      "cell_type": "markdown",
      "source": [
        "# **transpose()**"
      ],
      "metadata": {
        "id": "JDPnSZq0OIuk"
      }
    },
    {
      "cell_type": "code",
      "source": [
        "t=np.array([[1,2,3],[4,5,6]]) \n",
        "t"
      ],
      "metadata": {
        "id": "vA9IjqXHG1x4"
      },
      "execution_count": null,
      "outputs": []
    },
    {
      "cell_type": "code",
      "source": [
        "t.transpose()"
      ],
      "metadata": {
        "id": "Vy20urisOeMQ"
      },
      "execution_count": null,
      "outputs": []
    },
    {
      "cell_type": "code",
      "source": [
        "t.T"
      ],
      "metadata": {
        "id": "jO6uCi7ov1AD"
      },
      "execution_count": null,
      "outputs": []
    },
    {
      "cell_type": "markdown",
      "source": [
        "# **Mathematic Using NUMpy**"
      ],
      "metadata": {
        "id": "jHOwhxT6zqfF"
      }
    },
    {
      "cell_type": "code",
      "source": [
        "arr1=np.arange(1,10).reshape(3,3)\n",
        "arr2=np.arange(1,10).reshape(3,3)"
      ],
      "metadata": {
        "id": "VTWOmFHZv1Cb"
      },
      "execution_count": null,
      "outputs": []
    },
    {
      "cell_type": "code",
      "source": [
        "print(arr1)\n",
        "arr2 "
      ],
      "metadata": {
        "id": "rQM4DGAov1G3"
      },
      "execution_count": null,
      "outputs": []
    },
    {
      "cell_type": "code",
      "source": [
        "arr1+arr2"
      ],
      "metadata": {
        "id": "nyEVvkvsv1I9"
      },
      "execution_count": null,
      "outputs": []
    },
    {
      "cell_type": "code",
      "source": [
        "arr1-arr2"
      ],
      "metadata": {
        "id": "r__wQYHPv1LF"
      },
      "execution_count": null,
      "outputs": []
    },
    {
      "cell_type": "code",
      "source": [
        "arr1*arr2\n"
      ],
      "metadata": {
        "id": "zU3haqjtv1No"
      },
      "execution_count": null,
      "outputs": []
    },
    {
      "cell_type": "code",
      "source": [
        "arr1/arr2"
      ],
      "metadata": {
        "id": "Oh45uWeq74IR"
      },
      "execution_count": null,
      "outputs": []
    },
    {
      "cell_type": "code",
      "source": [
        "np.add(arr1,arr2)"
      ],
      "metadata": {
        "id": "GI2s6FGy76Yg"
      },
      "execution_count": null,
      "outputs": []
    },
    {
      "cell_type": "code",
      "source": [
        "np.subtract(arr1,arr2)"
      ],
      "metadata": {
        "id": "Djs6y3kJ8BLO"
      },
      "execution_count": null,
      "outputs": []
    },
    {
      "cell_type": "code",
      "source": [
        "np.divide(arr1,arr2)"
      ],
      "metadata": {
        "id": "TaF82Rr48Jfi"
      },
      "execution_count": null,
      "outputs": []
    },
    {
      "cell_type": "code",
      "source": [
        "np.multiply(arr1,arr2)"
      ],
      "metadata": {
        "id": "rCNXsQfw8LyQ"
      },
      "execution_count": null,
      "outputs": []
    },
    {
      "cell_type": "code",
      "source": [
        "arr1@arr2"
      ],
      "metadata": {
        "id": "cMfm8-W98RSA"
      },
      "execution_count": null,
      "outputs": []
    },
    {
      "cell_type": "code",
      "source": [
        "arr1.dot(arr2)"
      ],
      "metadata": {
        "id": "da_bKxPp9GUT"
      },
      "execution_count": null,
      "outputs": []
    },
    {
      "cell_type": "code",
      "source": [
        "arr1.max()"
      ],
      "metadata": {
        "id": "eznjf-Pq9Kyy"
      },
      "execution_count": null,
      "outputs": []
    },
    {
      "cell_type": "code",
      "source": [
        "arr1.argmax()"
      ],
      "metadata": {
        "id": "6J7rtUSP9OBC"
      },
      "execution_count": null,
      "outputs": []
    },
    {
      "cell_type": "code",
      "source": [
        "#0=column\n",
        "arr1.max(axis=0)"
      ],
      "metadata": {
        "id": "akebPV4Q9Uq2"
      },
      "execution_count": null,
      "outputs": []
    },
    {
      "cell_type": "code",
      "source": [
        "#1=row\n",
        "arr1.max(axis=1)"
      ],
      "metadata": {
        "id": "-7EVkSQJ9i6P"
      },
      "execution_count": null,
      "outputs": []
    },
    {
      "cell_type": "code",
      "source": [
        "arr1.min()"
      ],
      "metadata": {
        "id": "TXYu-juk-KC-"
      },
      "execution_count": null,
      "outputs": []
    },
    {
      "cell_type": "code",
      "source": [
        "arr1.argmin()"
      ],
      "metadata": {
        "id": "6FLF9qdv-KFz"
      },
      "execution_count": null,
      "outputs": []
    },
    {
      "cell_type": "code",
      "source": [
        "np.sum(arr1)"
      ],
      "metadata": {
        "id": "9cCMfZry-KH_"
      },
      "execution_count": null,
      "outputs": []
    },
    {
      "cell_type": "code",
      "source": [
        "np.sum(arr1,axis=0)"
      ],
      "metadata": {
        "id": "5LkooJSs-KKM"
      },
      "execution_count": null,
      "outputs": []
    },
    {
      "cell_type": "code",
      "source": [
        "np.sum(arr1,axis=1)"
      ],
      "metadata": {
        "id": "gJfbTpsN-KMc"
      },
      "execution_count": null,
      "outputs": []
    },
    {
      "cell_type": "code",
      "source": [
        "np.mean(arr1)"
      ],
      "metadata": {
        "id": "F1Q1uRJMAHoF"
      },
      "execution_count": null,
      "outputs": []
    },
    {
      "cell_type": "code",
      "source": [
        "np.sqrt(arr1)"
      ],
      "metadata": {
        "id": "pDJGkX0iAHqr"
      },
      "execution_count": null,
      "outputs": []
    },
    {
      "cell_type": "code",
      "source": [
        "np.std(arr1)"
      ],
      "metadata": {
        "id": "VtFdmh9xAHvR"
      },
      "execution_count": null,
      "outputs": []
    },
    {
      "cell_type": "code",
      "source": [
        "np.exp(arr1)"
      ],
      "metadata": {
        "id": "F9cAGS_HAHxm"
      },
      "execution_count": null,
      "outputs": []
    },
    {
      "cell_type": "code",
      "source": [
        "np.log(arr1)"
      ],
      "metadata": {
        "id": "fC6F28o5AH0T"
      },
      "execution_count": null,
      "outputs": []
    },
    {
      "cell_type": "code",
      "source": [
        "np.log10(arr1)"
      ],
      "metadata": {
        "id": "83A7TrXOAH3A"
      },
      "execution_count": null,
      "outputs": []
    },
    {
      "cell_type": "markdown",
      "source": [
        "# **Array Slice**"
      ],
      "metadata": {
        "id": "rG_HyyPwDBSW"
      }
    },
    {
      "cell_type": "code",
      "source": [
        "mx=np.arange(1,101).reshape(10,10)"
      ],
      "metadata": {
        "id": "9h-updg1-KOV"
      },
      "execution_count": null,
      "outputs": []
    },
    {
      "cell_type": "code",
      "source": [
        "mx"
      ],
      "metadata": {
        "id": "8xOhB5qsDA4u"
      },
      "execution_count": null,
      "outputs": []
    },
    {
      "cell_type": "code",
      "source": [
        "mx[3]"
      ],
      "metadata": {
        "id": "kAfKTtGh-KQs"
      },
      "execution_count": null,
      "outputs": []
    },
    {
      "cell_type": "code",
      "source": [
        "mx[3,3]"
      ],
      "metadata": {
        "id": "ld645-wF-KTC"
      },
      "execution_count": null,
      "outputs": []
    },
    {
      "cell_type": "code",
      "source": [
        "mx[3,3].ndim"
      ],
      "metadata": {
        "id": "5vY9stovDdcO"
      },
      "execution_count": null,
      "outputs": []
    },
    {
      "cell_type": "code",
      "source": [
        "mx[:,0]"
      ],
      "metadata": {
        "id": "7axD1bvyFUUK"
      },
      "execution_count": null,
      "outputs": []
    },
    {
      "cell_type": "code",
      "source": [
        "mx[:,0:1]"
      ],
      "metadata": {
        "id": "y0_ghDjAFWLT"
      },
      "execution_count": null,
      "outputs": []
    },
    {
      "cell_type": "code",
      "source": [
        "mx[1:4,1:4]"
      ],
      "metadata": {
        "id": "LInqrppjFWN1"
      },
      "execution_count": null,
      "outputs": []
    },
    {
      "cell_type": "code",
      "source": [
        "mx[:,:]"
      ],
      "metadata": {
        "id": "HchuvijpFWQ0"
      },
      "execution_count": null,
      "outputs": []
    },
    {
      "cell_type": "markdown",
      "source": [
        "# **Array Concatination and Split**"
      ],
      "metadata": {
        "id": "YkJLvO91Gp5f"
      }
    },
    {
      "cell_type": "code",
      "source": [
        "arr1=np.arange(1,17).reshape(4,4)\n",
        "arr2=np.arange(17,33).reshape(4,4)"
      ],
      "metadata": {
        "id": "uiAOJXWsFWTI"
      },
      "execution_count": null,
      "outputs": []
    },
    {
      "cell_type": "code",
      "source": [
        "np.concatenate((arr1,arr2))"
      ],
      "metadata": {
        "id": "wvkTVm8zFWXt"
      },
      "execution_count": null,
      "outputs": []
    },
    {
      "cell_type": "code",
      "source": [
        "np.vstack((arr1,arr2))"
      ],
      "metadata": {
        "id": "XjRJN4BlFWaD"
      },
      "execution_count": null,
      "outputs": []
    },
    {
      "cell_type": "code",
      "source": [
        "np.split(arr1,2)"
      ],
      "metadata": {
        "id": "8wYmRkMnFWb8"
      },
      "execution_count": null,
      "outputs": []
    },
    {
      "cell_type": "markdown",
      "source": [
        "# **Trignometry Function**"
      ],
      "metadata": {
        "id": "VpsVt7l0TdrS"
      }
    },
    {
      "cell_type": "code",
      "source": [
        "import matplotlib.pyplot as plt"
      ],
      "metadata": {
        "id": "n4LPah-kFWeB"
      },
      "execution_count": null,
      "outputs": []
    },
    {
      "cell_type": "code",
      "source": [
        "np.sin(30)"
      ],
      "metadata": {
        "id": "B1ysO0H1TYGT"
      },
      "execution_count": null,
      "outputs": []
    },
    {
      "cell_type": "code",
      "source": [
        "np.sin(90)"
      ],
      "metadata": {
        "id": "Y49WLgJxTYI5"
      },
      "execution_count": null,
      "outputs": []
    },
    {
      "cell_type": "code",
      "source": [
        "np.cos(180)"
      ],
      "metadata": {
        "id": "6yoaVQYrTYLo"
      },
      "execution_count": null,
      "outputs": []
    },
    {
      "cell_type": "code",
      "source": [
        "np.tan(180)"
      ],
      "metadata": {
        "id": "oPmLHKIdTYNu"
      },
      "execution_count": null,
      "outputs": []
    },
    {
      "cell_type": "code",
      "source": [
        "x_sin=np.arange(0,3*np.pi,0.1)\n",
        "x_sin"
      ],
      "metadata": {
        "id": "YMqvMxNfTYQD"
      },
      "execution_count": null,
      "outputs": []
    },
    {
      "cell_type": "code",
      "source": [
        "y_sin=np.sin(x_sin)\n",
        "y_sin"
      ],
      "metadata": {
        "id": "cp531r8mTYSc"
      },
      "execution_count": null,
      "outputs": []
    },
    {
      "cell_type": "code",
      "source": [
        "plt.plot(x_sin,y_sin)\n",
        "plt.show()"
      ],
      "metadata": {
        "id": "G-iWc-vQTYUn"
      },
      "execution_count": null,
      "outputs": []
    },
    {
      "cell_type": "code",
      "source": [
        "y_cos=np.cos(x_sin)"
      ],
      "metadata": {
        "id": "fwVfwlyyTYXX"
      },
      "execution_count": null,
      "outputs": []
    },
    {
      "cell_type": "code",
      "source": [
        "plt.plot(x_sin,y_cos)"
      ],
      "metadata": {
        "id": "tZ13_TisTYZg"
      },
      "execution_count": null,
      "outputs": []
    },
    {
      "cell_type": "code",
      "source": [
        "y_tan=np.tan(x_sin)\n",
        "plt.plot(x_sin,y_tan)"
      ],
      "metadata": {
        "id": "IX7YVmEFTYbr"
      },
      "execution_count": null,
      "outputs": []
    },
    {
      "cell_type": "markdown",
      "source": [
        "# **Random Sampling** "
      ],
      "metadata": {
        "id": "9MwYHXhGW3Y-"
      }
    },
    {
      "cell_type": "code",
      "source": [
        "import random"
      ],
      "metadata": {
        "id": "tY0aoO6DTYd5"
      },
      "execution_count": null,
      "outputs": []
    },
    {
      "cell_type": "code",
      "source": [
        "np.random.random(1)"
      ],
      "metadata": {
        "id": "f-PD5kPtWcN0"
      },
      "execution_count": null,
      "outputs": []
    },
    {
      "cell_type": "code",
      "source": [
        "ran=np.random.random(100)"
      ],
      "metadata": {
        "id": "GTQXI5yqWcQU"
      },
      "execution_count": null,
      "outputs": []
    },
    {
      "cell_type": "code",
      "source": [
        "np.random.random((3,3))"
      ],
      "metadata": {
        "id": "HwfxxaSbWcS0"
      },
      "execution_count": null,
      "outputs": []
    },
    {
      "cell_type": "code",
      "source": [
        "np.random.randint(1,4)"
      ],
      "metadata": {
        "id": "LWsFKlDcWcW5"
      },
      "execution_count": null,
      "outputs": []
    },
    {
      "cell_type": "code",
      "source": [
        "np.random.randint(1,4,(2,4,4))"
      ],
      "metadata": {
        "id": "XbaBcxV9WcZL"
      },
      "execution_count": null,
      "outputs": []
    },
    {
      "cell_type": "code",
      "source": [
        "np.random.seed(10) #2**32-1\n",
        "np.random.randint(1,4,(2,4,4))"
      ],
      "metadata": {
        "id": "wsM-rI_aWcbj"
      },
      "execution_count": null,
      "outputs": []
    },
    {
      "cell_type": "code",
      "source": [
        "np.random.rand(3)"
      ],
      "metadata": {
        "id": "O0cCigDTWceb"
      },
      "execution_count": null,
      "outputs": []
    },
    {
      "cell_type": "code",
      "source": [
        "np.random.randn(3)"
      ],
      "metadata": {
        "id": "rgtiJLBjYMJd"
      },
      "execution_count": null,
      "outputs": []
    },
    {
      "cell_type": "code",
      "source": [
        "x=[1,2,3,4]\n",
        "np.random.choice(x)"
      ],
      "metadata": {
        "id": "YGtH9iVHYML4"
      },
      "execution_count": null,
      "outputs": []
    },
    {
      "cell_type": "code",
      "source": [
        "for i in range(20):\n",
        "  print(np.random.choice(x))"
      ],
      "metadata": {
        "id": "5YInqf7LYMOb"
      },
      "execution_count": null,
      "outputs": []
    },
    {
      "cell_type": "code",
      "source": [
        "np.random.permutation(x)"
      ],
      "metadata": {
        "id": "zueO7hXnYMQ2"
      },
      "execution_count": null,
      "outputs": []
    },
    {
      "cell_type": "markdown",
      "source": [
        "# **String Operation**"
      ],
      "metadata": {
        "id": "GdU_McywZ7A2"
      }
    },
    {
      "cell_type": "code",
      "source": [
        " str1=\"Hi i am a AI.\"\n",
        " str2=\"Welcome AI WORLD\""
      ],
      "metadata": {
        "id": "kriQ21fSWcjo"
      },
      "execution_count": null,
      "outputs": []
    },
    {
      "cell_type": "code",
      "source": [
        "np.char.add(str1,str2)"
      ],
      "metadata": {
        "id": "HTAKSumLZ_EV"
      },
      "execution_count": null,
      "outputs": []
    },
    {
      "cell_type": "code",
      "source": [
        "np.char.lower(str1)"
      ],
      "metadata": {
        "id": "cCbezms1Z_HD"
      },
      "execution_count": null,
      "outputs": []
    },
    {
      "cell_type": "code",
      "source": [
        "np.char.upper(str1)"
      ],
      "metadata": {
        "id": "rGlFNCHcZ_Jx"
      },
      "execution_count": null,
      "outputs": []
    },
    {
      "cell_type": "code",
      "source": [
        "np.char.center(str1,60)"
      ],
      "metadata": {
        "id": "sLU68xADZ_M3"
      },
      "execution_count": null,
      "outputs": []
    },
    {
      "cell_type": "code",
      "source": [
        "np.char.center(str1,60,fillchar=\"*\")"
      ],
      "metadata": {
        "id": "HqM1sb3qZ_OV"
      },
      "execution_count": null,
      "outputs": []
    },
    {
      "cell_type": "code",
      "source": [
        "np.char.split(str1) "
      ],
      "metadata": {
        "id": "2pCh5lGnZ_QV"
      },
      "execution_count": null,
      "outputs": []
    },
    {
      "cell_type": "code",
      "source": [
        "np.char.splitlines(\"hello\\nMeharaz\")"
      ],
      "metadata": {
        "id": "bp4zRtgyZ_Su"
      },
      "execution_count": null,
      "outputs": []
    },
    {
      "cell_type": "code",
      "source": [
        " np.char.replace(str1 ,\"AI\",\"ML\")"
      ],
      "metadata": {
        "id": "ieW2DR0qZ_VN"
      },
      "execution_count": null,
      "outputs": []
    },
    {
      "cell_type": "code",
      "source": [
        " np.char.equal(str1,str2)"
      ],
      "metadata": {
        "id": "_5BKsE80Z_XZ"
      },
      "execution_count": null,
      "outputs": []
    },
    {
      "cell_type": "code",
      "source": [
        "np.char.count(str1,\"a\")"
      ],
      "metadata": {
        "id": "IS2llqfWbViN"
      },
      "execution_count": null,
      "outputs": []
    },
    {
      "cell_type": "code",
      "source": [
        "str1"
      ],
      "metadata": {
        "id": "wZMnZx2TcAQa"
      },
      "execution_count": null,
      "outputs": []
    },
    {
      "cell_type": "code",
      "source": [
        "np.char.find(str1,\"AI\")"
      ],
      "metadata": {
        "id": "SpHAtsE3cASY"
      },
      "execution_count": null,
      "outputs": []
    },
    {
      "cell_type": "code",
      "source": [
        "np.char.find(str1,\"A\")"
      ],
      "metadata": {
        "id": "1hlFTrZecAUw"
      },
      "execution_count": null,
      "outputs": []
    }
  ]
}