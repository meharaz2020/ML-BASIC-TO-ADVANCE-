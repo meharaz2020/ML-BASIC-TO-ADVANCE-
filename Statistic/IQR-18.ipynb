{
 "cells": [
  {
   "cell_type": "code",
   "execution_count": 13,
   "id": "36ef75ec-01a6-4f98-b939-02ad6223b7ad",
   "metadata": {},
   "outputs": [],
   "source": [
    "def median_calculation(number_size, numbers):\n",
    "    if number_size %2 == 0:\n",
    "        median = (numbers[int(number_size/2) -1] + numbers[int(number_size/2)]) /2\n",
    "    else:\n",
    "        median = float(numbers[int(number_size/2)])\n",
    "        \n",
    "    return median"
   ]
  },
  {
   "cell_type": "code",
   "execution_count": 3,
   "id": "ff8b1f57-0f85-4dbd-bbce-2ece32579c1e",
   "metadata": {},
   "outputs": [
    {
     "name": "stdin",
     "output_type": "stream",
     "text": [
      "Enter the number of size:  10\n",
      " 1 22 55 44 7 5 8 9 3 4\n",
      " 1 2 3 4 5 6 7 8 9 10\n"
     ]
    }
   ],
   "source": [
    "number_size = int(input(\"Enter the number of size: \"))\n",
    "numbers = list(map(int, input().split()))\n",
    "number_frequency = list(map(int, input().split()))"
   ]
  },
  {
   "cell_type": "code",
   "execution_count": 4,
   "id": "3816d243-37d4-41b7-a42f-f205a09c8461",
   "metadata": {},
   "outputs": [
    {
     "name": "stdout",
     "output_type": "stream",
     "text": [
      "Size of the Numbers  10\n",
      "Numbers :  [1, 22, 55, 44, 7, 5, 8, 9, 3, 4]\n",
      "Numbers Frequency:  [1, 2, 3, 4, 5, 6, 7, 8, 9, 10]\n"
     ]
    }
   ],
   "source": [
    "print(\"Size of the Numbers \", number_size)\n",
    "print(\"Numbers : \", numbers)\n",
    "print(\"Numbers Frequency: \", number_frequency)"
   ]
  },
  {
   "cell_type": "code",
   "execution_count": 8,
   "id": "062e4080-ed71-434d-b3d8-268b1689f482",
   "metadata": {},
   "outputs": [],
   "source": [
    "sorted_Numbers = []\n",
    "\n",
    "for i in range(len(numbers)):\n",
    "    for j in range(number_frequency[i]):\n",
    "        sorted_Numbers.append(numbers[i])\n",
    "\n",
    "sorted_Numbers = sorted(sorted_Numbers)"
   ]
  },
  {
   "cell_type": "code",
   "execution_count": 9,
   "id": "919697e8-c5f7-46c2-987d-c6ac2d5a0220",
   "metadata": {},
   "outputs": [
    {
     "name": "stdout",
     "output_type": "stream",
     "text": [
      "Sorted Numbers is  [1, 3, 3, 3, 3, 3, 3, 3, 3, 3, 4, 4, 4, 4, 4, 4, 4, 4, 4, 4, 5, 5, 5, 5, 5, 5, 7, 7, 7, 7, 7, 8, 8, 8, 8, 8, 8, 8, 9, 9, 9, 9, 9, 9, 9, 9, 22, 22, 44, 44, 44, 44, 55, 55, 55]\n"
     ]
    }
   ],
   "source": [
    "print(\"Sorted Numbers is \", sorted_Numbers)"
   ]
  },
  {
   "cell_type": "code",
   "execution_count": 11,
   "id": "548faeca-67c3-494a-a593-06745100f156",
   "metadata": {},
   "outputs": [],
   "source": [
    "sorted_numbers_size = int(len(sorted_Numbers))\n",
    "\n",
    "if sorted_numbers_size %2==0:\n",
    "    minimum_data = sorted_Numbers[0:int(sorted_numbers_size/2)]\n",
    "    maximum_data = sorted_Numbers[int(sorted_numbers_size/2): sorted_numbers_size]\n",
    "    \n",
    "else:\n",
    "    minimum_data = sorted_Numbers[0:int(sorted_numbers_size/2)]\n",
    "    maximum_data = sorted_Numbers[int(sorted_numbers_size/2) + 1 : sorted_numbers_size]"
   ]
  },
  {
   "cell_type": "code",
   "execution_count": 14,
   "id": "3983ce0e-c55d-4331-8413-efc17652730d",
   "metadata": {},
   "outputs": [],
   "source": [
    "maximum_value = median_calculation(len(maximum_data), maximum_data)\n",
    "minimum_value = median_calculation(len(minimum_data), minimum_data)"
   ]
  },
  {
   "cell_type": "code",
   "execution_count": 17,
   "id": "c7ff519a-47cf-466d-abb9-22ac6dccaf08",
   "metadata": {},
   "outputs": [
    {
     "name": "stdout",
     "output_type": "stream",
     "text": [
      "Maximum values is :  9.0\n",
      "Minimum values is :  4.0\n"
     ]
    }
   ],
   "source": [
    "print(\"Maximum values is : \", maximum_value)\n",
    "print(\"Minimum values is : \", minimum_value)"
   ]
  },
  {
   "cell_type": "code",
   "execution_count": 15,
   "id": "7810c8b3-6a74-46d7-91b0-af4931aefe74",
   "metadata": {},
   "outputs": [],
   "source": [
    "iqr = maximum_value - minimum_value"
   ]
  },
  {
   "cell_type": "code",
   "execution_count": 16,
   "id": "3cf53164-fbdb-4929-940a-6268f31c7b51",
   "metadata": {},
   "outputs": [
    {
     "name": "stdout",
     "output_type": "stream",
     "text": [
      "InterQuartile Range is :  5.0\n"
     ]
    }
   ],
   "source": [
    "print(\"InterQuartile Range is : \", iqr)"
   ]
  },
  {
   "cell_type": "code",
   "execution_count": null,
   "id": "4935f401-3a00-407f-ac47-1506237c1958",
   "metadata": {},
   "outputs": [],
   "source": []
  }
 ],
 "metadata": {
  "kernelspec": {
   "display_name": "Python 3 (ipykernel)",
   "language": "python",
   "name": "python3"
  },
  "language_info": {
   "codemirror_mode": {
    "name": "ipython",
    "version": 3
   },
   "file_extension": ".py",
   "mimetype": "text/x-python",
   "name": "python",
   "nbconvert_exporter": "python",
   "pygments_lexer": "ipython3",
   "version": "3.9.7"
  }
 },
 "nbformat": 4,
 "nbformat_minor": 5
}
