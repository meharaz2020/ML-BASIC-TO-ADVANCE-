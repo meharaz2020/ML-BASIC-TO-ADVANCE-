{
 "cells": [
  {
   "cell_type": "code",
   "execution_count": 1,
   "id": "18c0472c-a736-4f5d-ae73-3dccf7a01d6a",
   "metadata": {},
   "outputs": [],
   "source": [
    "def median_Calculation(length_of_numbers, numbers):\n",
    "    if length_of_numbers % 2 == 0:\n",
    "        median = (numbers[int(length_of_numbers/2) -1 ] + numbers[int(length_of_numbers/2)])/2\n",
    "    else:\n",
    "        median = numbers[int(length_of_numbers/2)]\n",
    "        \n",
    "    return median"
   ]
  },
  {
   "cell_type": "code",
   "execution_count": 2,
   "id": "8954fd78-3d78-4587-834c-8be85552450f",
   "metadata": {},
   "outputs": [
    {
     "name": "stdin",
     "output_type": "stream",
     "text": [
      "Enter the Size of the Input Number 10\n",
      " 1 5 8 2 3 4 6 7 9 10\n"
     ]
    }
   ],
   "source": [
    "input_number_size = int(input(\"Enter the Size of the Input Number\"))\n",
    "number_list_generate = list(map(int, input().split()))\n",
    "sorted_number_list_generate = sorted(number_list_generate)"
   ]
  },
  {
   "cell_type": "code",
   "execution_count": 3,
   "id": "2e24af34-b545-492d-98b7-aeec01b854ce",
   "metadata": {},
   "outputs": [
    {
     "name": "stdout",
     "output_type": "stream",
     "text": [
      "Unsorted List:  [1, 5, 8, 2, 3, 4, 6, 7, 9, 10]\n",
      "Sorted List:  [1, 2, 3, 4, 5, 6, 7, 8, 9, 10]\n"
     ]
    }
   ],
   "source": [
    "print(\"Unsorted List: \", number_list_generate)\n",
    "print(\"Sorted List: \", sorted_number_list_generate)"
   ]
  },
  {
   "cell_type": "code",
   "execution_count": 11,
   "id": "caebb4e5-0733-4851-878d-933ed68664f8",
   "metadata": {},
   "outputs": [],
   "source": [
    "if input_number_size%2 ==0:\n",
    "    minimum_data = sorted_number_list_generate[0: int(input_number_size/2)]\n",
    "    maximum_data = sorted_number_list_generate[int(input_number_size/2) : input_number_size]\n",
    "else:\n",
    "    minimum_data = sorted_number_list_generate[0: int(input_number_size/2)]\n",
    "    maximum_data = sorted_number_list_generate[int(input_number_size/2) + 1 : input_number_size]"
   ]
  },
  {
   "cell_type": "code",
   "execution_count": 13,
   "id": "7bbbf281-e83d-4477-b8dd-04809c81f9a7",
   "metadata": {},
   "outputs": [
    {
     "name": "stdout",
     "output_type": "stream",
     "text": [
      "Median for Minimum is:  3\n",
      "Median for full Number sets is:  5.5\n",
      "Median for Maximum is:  8\n"
     ]
    }
   ],
   "source": [
    "print(\"Median for Minimum is: \", median_Calculation(len(minimum_data), minimum_data))\n",
    "print(\"Median for full Number sets is: \", median_Calculation(input_number_size, sorted_number_list_generate))\n",
    "print(\"Median for Maximum is: \", median_Calculation(len(maximum_data), maximum_data))"
   ]
  },
  {
   "cell_type": "code",
   "execution_count": 10,
   "id": "affb4115-69df-433c-baa5-07e4e575228b",
   "metadata": {},
   "outputs": [],
   "source": [
    "# minimum_data = sorted_number_list_generate[0: int(input_number_size/2)]\n",
    "# maximum_data = sorted_number_list_generate[int(input_number_size/2) : input_number_size]"
   ]
  },
  {
   "cell_type": "code",
   "execution_count": null,
   "id": "449c4816-c08d-4bfd-bd8e-91c6b39825ff",
   "metadata": {},
   "outputs": [],
   "source": []
  }
 ],
 "metadata": {
  "kernelspec": {
   "display_name": "Python 3 (ipykernel)",
   "language": "python",
   "name": "python3"
  },
  "language_info": {
   "codemirror_mode": {
    "name": "ipython",
    "version": 3
   },
   "file_extension": ".py",
   "mimetype": "text/x-python",
   "name": "python",
   "nbconvert_exporter": "python",
   "pygments_lexer": "ipython3",
   "version": "3.9.7"
  }
 },
 "nbformat": 4,
 "nbformat_minor": 5
}
